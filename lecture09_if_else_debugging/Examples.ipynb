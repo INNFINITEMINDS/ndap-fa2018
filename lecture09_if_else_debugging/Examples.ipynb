{
 "cells": [
  {
   "cell_type": "code",
   "execution_count": null,
   "metadata": {},
   "outputs": [],
   "source": [
    "some_text = \"\"\"We present a signal representation framework called the sparse manifold transform\n",
    "that combines key ideas from sparse coding, manifold learning and slow feature\n",
    "analysis. It turns non-linear transformations in the primary sensory signal space\n",
    "into linear interpolations in a representational embedding space while maintaining\n",
    "approximate invertibility. The sparse manifold transform is an unsupervised and\n",
    "generative framework that explicitly and simultaneously models the sparse discreteness\n",
    "and low-dimensional manifold structure found in natural scenes. When\n",
    "stacked, it also models hierarchical composition. We provide a theoretical description\n",
    "of the transform and demonstrate properties of the learned representation on\n",
    "both synthetic data and natural videos.\"\"\""
   ]
  },
  {
   "cell_type": "code",
   "execution_count": null,
   "metadata": {},
   "outputs": [],
   "source": [
    "# count the number of r's in the text\n",
    "\n",
    "total_rs = 0\n",
    "for character in some_text:\n",
    "    if charcter == 'r':\n",
    "        print(\"found an r!\")\n",
    "        total_rs += 1"
   ]
  },
  {
   "cell_type": "code",
   "execution_count": null,
   "metadata": {},
   "outputs": [],
   "source": [
    "# make a list of all the words that contain the letter r\n",
    "\n",
    "all_r_words = []\n",
    "for word in some_text:\n",
    "    if 'r' in word:\n",
    "        all_r_words.append(word)\n",
    "\n",
    "print(all_r_words)"
   ]
  },
  {
   "cell_type": "code",
   "execution_count": null,
   "metadata": {},
   "outputs": [],
   "source": []
  }
 ],
 "metadata": {
  "kernelspec": {
   "display_name": "Python 3",
   "language": "python",
   "name": "python3"
  },
  "language_info": {
   "codemirror_mode": {
    "name": "ipython",
    "version": 3
   },
   "file_extension": ".py",
   "mimetype": "text/x-python",
   "name": "python",
   "nbconvert_exporter": "python",
   "pygments_lexer": "ipython3",
   "version": "3.6.5"
  }
 },
 "nbformat": 4,
 "nbformat_minor": 2
}
