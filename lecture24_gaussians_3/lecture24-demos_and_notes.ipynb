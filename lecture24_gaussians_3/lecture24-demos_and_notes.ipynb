{
 "cells": [
  {
   "cell_type": "code",
   "execution_count": 1,
   "metadata": {},
   "outputs": [],
   "source": [
    "import numpy as np\n",
    "import scipy.stats\n",
    "from matplotlib import pyplot as plt"
   ]
  },
  {
   "cell_type": "markdown",
   "metadata": {},
   "source": [
    "## Where does the t distribution come from?\n",
    "The t-distribution appears when you _try_ to standardize the mean of your sample by dividing by the sample standard deviation. If the mean and sample standard deviation were independent, this would just be a gaussian distribution. But they're not independent--the sample SD depends on the mean (this is also why we use the `ddof=1` correction factor)!"
   ]
  },
  {
   "cell_type": "code",
   "execution_count": 65,
   "metadata": {},
   "outputs": [],
   "source": [
    "# generate a million samples of length `n`\n",
    "n = 2\n",
    "rands = np.random.randn(n, 1000000)"
   ]
  },
  {
   "cell_type": "code",
   "execution_count": 66,
   "metadata": {},
   "outputs": [],
   "source": [
    "# compute the t statistic for each sample (this uses the sample SD)\n",
    "t = rands.mean(axis=0) / (rands.std(axis=0, ddof=1) / np.sqrt(n))\n",
    "\n",
    "# also compute the z statistic for each sample (this uses the known SD = 1)\n",
    "# this will actually be gaussian distributed\n",
    "z = rands.mean(axis=0) / (1 / np.sqrt(n))"
   ]
  },
  {
   "cell_type": "code",
   "execution_count": 67,
   "metadata": {},
   "outputs": [
    {
     "data": {
      "image/png": "[encoded data removed]",
      "text/plain": [
       "<Figure size 432x288 with 1 Axes>"
      ]
     },
     "metadata": {},
     "output_type": "display_data"
    }
   ],
   "source": [
    "# if we histogram them we can see that the t distribution is different:\n",
    "# it has a peakier middle and heavier tails\n",
    "plt.hist(t, np.linspace(-10, 10, 500), histtype='step');\n",
    "plt.hist(z, np.linspace(-10, 10, 500), histtype='step');\n",
    "plt.xlim(-4, 4);"
   ]
  },
  {
   "cell_type": "code",
   "execution_count": 68,
   "metadata": {},
   "outputs": [
    {
     "data": {
      "image/png": "[encoded data removed]",
      "text/plain": [
       "<Figure size 432x288 with 1 Axes>"
      ]
     },
     "metadata": {},
     "output_type": "display_data"
    }
   ],
   "source": [
    "# in this particular case (n=2) it also has infinite variance, meaning that \n",
    "# it can take on incredibly extreme values\n",
    "plt.hist(t, 500, histtype='step');"
   ]
  },
  {
   "cell_type": "code",
   "execution_count": 69,
   "metadata": {},
   "outputs": [],
   "source": [
    "# what would happen if we assumed that these things came from a gaussian distribution when they don't?\n",
    "# let's try by testing whether each sample is from a gaussian distribution that has a mean greater than zero\n",
    "# (the answer should be NO or NOT SIGNIFICANT since we _are_ actually sampling from a standard normal dist.)\n",
    "n2 = 5\n",
    "rands2 = np.random.randn(n2, 100000)"
   ]
  },
  {
   "cell_type": "code",
   "execution_count": 70,
   "metadata": {},
   "outputs": [],
   "source": [
    "means = rands2.mean(0)\n",
    "s = rands2.std(0, ddof=1)"
   ]
  },
  {
   "cell_type": "code",
   "execution_count": 71,
   "metadata": {},
   "outputs": [],
   "source": [
    "from scipy.stats import norm"
   ]
  },
  {
   "cell_type": "code",
   "execution_count": 72,
   "metadata": {},
   "outputs": [],
   "source": [
    "# if the sample mean has a gaussian distribution with SD = sem, \n",
    "# what's the probability of observing a value this large under the null hypothesis\n",
    "\n",
    "# note that this is WRONG, this is NOT a z statistic because it divides by the sample standard deviation\n",
    "z2_bad = means / (s / np.sqrt(n2))"
   ]
  },
  {
   "cell_type": "code",
   "execution_count": 75,
   "metadata": {},
   "outputs": [],
   "source": [
    "z_p_vals = norm.sf(z2_bad)"
   ]
  },
  {
   "cell_type": "code",
   "execution_count": 76,
   "metadata": {},
   "outputs": [
    {
     "data": {
      "text/plain": [
       "0.08733"
      ]
     },
     "execution_count": 76,
     "metadata": {},
     "output_type": "execute_result"
    }
   ],
   "source": [
    "# since we sampled from the null distribution, we should find almost exactly 5% of the results\n",
    "# are significant at the p<0.05 level (that's what p<0.05 means)\n",
    "# but we don't! this test is WRONG! it is OVERESTIMATING the significance\n",
    "\n",
    "(z_p_vals < 0.05).mean()"
   ]
  },
  {
   "cell_type": "code",
   "execution_count": 77,
   "metadata": {},
   "outputs": [],
   "source": [
    "# the correct test is the T TEST\n",
    "import scipy.stats"
   ]
  },
  {
   "cell_type": "code",
   "execution_count": 79,
   "metadata": {},
   "outputs": [],
   "source": [
    "t_stats,t_p_vals = scipy.stats.ttest_1samp(rands, 0, axis=0)"
   ]
  },
  {
   "cell_type": "code",
   "execution_count": 80,
   "metadata": {},
   "outputs": [
    {
     "data": {
      "text/plain": [
       "0.049969"
      ]
     },
     "execution_count": 80,
     "metadata": {},
     "output_type": "execute_result"
    }
   ],
   "source": [
    "# when we do a t test we find that, indeed, 5% of the sample means are \"significantly\" different from 0\n",
    "# at a p<0.05 level. this is CORRECT\n",
    "(t_p_vals < 0.05).mean()"
   ]
  },
  {
   "cell_type": "code",
   "execution_count": null,
   "metadata": {},
   "outputs": [],
   "source": []
  }
 ],
 "metadata": {
  "kernelspec": {
   "display_name": "Python 3",
   "language": "python",
   "name": "python3"
  },
  "language_info": {
   "codemirror_mode": {
    "name": "ipython",
    "version": 3
   },
   "file_extension": ".py",
   "mimetype": "text/x-python",
   "name": "python",
   "nbconvert_exporter": "python",
   "pygments_lexer": "ipython3",
   "version": "3.6.5"
  }
 },
 "nbformat": 4,
 "nbformat_minor": 2
}
