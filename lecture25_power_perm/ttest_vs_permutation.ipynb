{
 "cells": [
  {
   "cell_type": "code",
   "execution_count": 2,
   "metadata": {},
   "outputs": [],
   "source": [
    "%matplotlib inline\n",
    "import numpy as np\n",
    "from matplotlib import pyplot as plt\n",
    "import scipy.stats"
   ]
  },
  {
   "cell_type": "code",
   "execution_count": 30,
   "metadata": {},
   "outputs": [],
   "source": [
    "# permutation test\n",
    "\n",
    "n = 40 # size of each sample\n",
    "es = 0.5 # effect size\n",
    "ntest = 10000 # number of random sample pairs to create\n",
    "\n",
    "arr = np.random.randn(2 * n, ntest)\n",
    "arr[:n] += es\n",
    "\n",
    "# run t-tests on each pair of samples\n",
    "t,t_p = scipy.stats.ttest_ind(arr[:n], arr[n:])"
   ]
  },
  {
   "cell_type": "code",
   "execution_count": 31,
   "metadata": {},
   "outputs": [
    {
     "data": {
      "text/plain": [
       "0.6"
      ]
     },
     "execution_count": 31,
     "metadata": {},
     "output_type": "execute_result"
    }
   ],
   "source": [
    "# how many tests are significant at p<0.05 level according to t-test?\n",
    "(t_p < 0.05).mean()"
   ]
  },
  {
   "cell_type": "code",
   "execution_count": 32,
   "metadata": {},
   "outputs": [
    {
     "name": "stdout",
     "output_type": "stream",
     "text": [
      "(1000, 80)\n"
     ]
    }
   ],
   "source": [
    "n_perm = 1000\n",
    "\n",
    "# create indices for permutation test\n",
    "perm_inds = np.vstack([np.random.permutation(2*n) for _ in range(n_perm)])\n",
    "print(perm_inds.shape)"
   ]
  },
  {
   "cell_type": "code",
   "execution_count": 33,
   "metadata": {},
   "outputs": [],
   "source": [
    "perm_p = np.zeros(ntest) # initialize matrix to hold p-values\n",
    "\n",
    "real_diffs = (arr[:n] - arr[n:]).mean(0) # store actual difference between sample means\n",
    "\n",
    "for ii in range(ntest):\n",
    "    perm = arr[:,ii][perm_inds] # create permuted samples\n",
    "    perm_diffs = (perm[:,:n] - perm[:,n:]).mean(1) # compute mean difference for each permuted sample\n",
    "    perm_p[ii] = (np.abs(perm_diffs) > np.abs(real_diffs[ii])).mean() # compare to real difference"
   ]
  },
  {
   "cell_type": "code",
   "execution_count": 34,
   "metadata": {},
   "outputs": [
    {
     "data": {
      "text/plain": [
       "0.6"
      ]
     },
     "execution_count": 34,
     "metadata": {},
     "output_type": "execute_result"
    }
   ],
   "source": [
    "# how many tests are significant at p<0.05 level according to permutation test?\n",
    "(perm_p < 0.05).mean()"
   ]
  },
  {
   "cell_type": "code",
   "execution_count": 35,
   "metadata": {},
   "outputs": [
    {
     "data": {
      "text/plain": [
       "Text(0,0.5,'power')"
      ]
     },
     "execution_count": 35,
     "metadata": {},
     "output_type": "execute_result"
    },
    {
     "data": {
      "image/png": "[encoded data removed]",
      "text/plain": [
       "<Figure size 432x288 with 1 Axes>"
      ]
     },
     "metadata": {},
     "output_type": "display_data"
    }
   ],
   "source": [
    "p_thresholds = np.logspace(-3, 0, 40)\n",
    "ttest_power = np.array([(t_p<pthresh).mean() for pthresh in p_thresholds])\n",
    "perm_power = np.array([(perm_p<pthresh).mean() for pthresh in p_thresholds])\n",
    "\n",
    "plt.semilogx(p_thresholds, ttest_power, '.-', label='t-test')\n",
    "plt.semilogx(p_thresholds, perm_power, '.-', label='perm')\n",
    "plt.legend()\n",
    "plt.xlabel(\"p-value\")\n",
    "plt.ylabel(\"power\")"
   ]
  },
  {
   "cell_type": "code",
   "execution_count": null,
   "metadata": {},
   "outputs": [],
   "source": []
  }
 ],
 "metadata": {
  "kernelspec": {
   "display_name": "Python 3",
   "language": "python",
   "name": "python3"
  },
  "language_info": {
   "codemirror_mode": {
    "name": "ipython",
    "version": 3
   },
   "file_extension": ".py",
   "mimetype": "text/x-python",
   "name": "python",
   "nbconvert_exporter": "python",
   "pygments_lexer": "ipython3",
   "version": "3.6.5"
  }
 },
 "nbformat": 4,
 "nbformat_minor": 2
}
