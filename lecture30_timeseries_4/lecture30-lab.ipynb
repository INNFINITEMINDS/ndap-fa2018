{
 "cells": [
  {
   "cell_type": "code",
   "execution_count": 1,
   "metadata": {},
   "outputs": [],
   "source": [
    "%matplotlib inline\n",
    "import numpy as np\n",
    "import matplotlib.pyplot as plt\n",
    "from scipy import signal"
   ]
  },
  {
   "cell_type": "code",
   "execution_count": 8,
   "metadata": {},
   "outputs": [
    {
     "name": "stdout",
     "output_type": "stream",
     "text": [
      "['eeg_data', 'Fs']\n",
      "eeg_data shape: (8, 101638)\n",
      "sampling rate: 128.0\n"
     ]
    }
   ],
   "source": [
    "# first, load the data\n",
    "datafile = np.load(\"EEG_data.npz\")\n",
    "\n",
    "# what objects are inside this data file?\n",
    "print(datafile.files)\n",
    "\n",
    "# load the eeg_data\n",
    "# this dataset is an EEG recording with 8 channels and 101638 timepoints\n",
    "eeg_data = datafile[\"eeg_data\"]\n",
    "print(\"eeg_data shape:\", eeg_data.shape)\n",
    "\n",
    "# get the sampling rate (Fs) in Hz\n",
    "Fs = datafile[\"Fs\"]\n",
    "print(\"sampling rate:\", Fs)"
   ]
  },
  {
   "cell_type": "markdown",
   "metadata": {},
   "source": [
    "## Plot some of the EEG data timeseries\n",
    "\n",
    "Make 4 plots of the EEG data timeseries:\n",
    "* One plot showing half a second of data (how many samples is this?)\n",
    "* One plot showing two seconds of data\n",
    "* One plot showing 10 seconds of data\n",
    "* One plot showing 100 seconds data\n",
    "\n",
    "You can start with just plotting one channel for each, but you should also try plotting all 8 channels on the same axis.\n",
    "\n",
    "For each plot you need to figure out how many samples to include. You know that the sampling rate (the variable `Fs` that we loaded from the datafile) is 128 Hz, or 128 samples per second.\n",
    "\n",
    "Please label at least the x-axis of each plot.\n",
    "\n",
    "It would also be cool if the plots had an x-axis with units of seconds instead of samples."
   ]
  },
  {
   "cell_type": "code",
   "execution_count": 16,
   "metadata": {},
   "outputs": [],
   "source": [
    "# plot half a second"
   ]
  },
  {
   "cell_type": "code",
   "execution_count": 17,
   "metadata": {},
   "outputs": [],
   "source": [
    "# plot 2 seconds"
   ]
  },
  {
   "cell_type": "code",
   "execution_count": 49,
   "metadata": {},
   "outputs": [],
   "source": [
    "# plot 10 seconds"
   ]
  },
  {
   "cell_type": "code",
   "execution_count": 19,
   "metadata": {},
   "outputs": [],
   "source": [
    "# plot 1000 seconds"
   ]
  },
  {
   "cell_type": "markdown",
   "metadata": {},
   "source": [
    "## Plot the power spectrum (psd) of one channel of the EEG data\n",
    "\n",
    "Use the function `plt.psd` that we talked about in lecture 28 (see the notebook `Fourier.ipynb` in that lecture for a demo) to plot the power spectrum of one EEG channel. Set the sampling rate `Fs` correctly so that you get the correct units of frequency.\n",
    "\n",
    "Then plot the power spectra for all 8 EEG channels in the same axis."
   ]
  },
  {
   "cell_type": "code",
   "execution_count": 48,
   "metadata": {},
   "outputs": [],
   "source": [
    "# plot one power spectrum"
   ]
  },
  {
   "cell_type": "code",
   "execution_count": 24,
   "metadata": {},
   "outputs": [],
   "source": [
    "# plot all 8 power spectra in the same axis"
   ]
  },
  {
   "cell_type": "markdown",
   "metadata": {},
   "source": [
    "### Features of the power spectrum\n",
    "* The power spectrum is _not_ flat. Instead, it has a reasonably linear slope, meaning that low frequencies are much stronger than high frequencies. Any ideas why?\n",
    "* What's going on at around 10 Hz?\n",
    "* What's going on at around 60 Hz?"
   ]
  },
  {
   "cell_type": "markdown",
   "metadata": {},
   "source": [
    "## Plot a spectrogram of the EEG data\n",
    "Use the `plt.specgram` function to plot a spectrogram of the first 60 seconds of the EEG data from one channel. You'll need to set the parameter `Fs` appropriately. Label the x- and y-axes appropriately.\n",
    "\n",
    "Next, try playing with the `NFFT` and `noverlap` parameters to `plt.specgram`. Some settings of these parameters are illegal and will make `specgram` error--specifically, `noverlap` needs to be smaller than `NFFT`. What effect do these parameters have?"
   ]
  },
  {
   "cell_type": "code",
   "execution_count": 45,
   "metadata": {},
   "outputs": [],
   "source": [
    "# plot a spectrogram"
   ]
  },
  {
   "cell_type": "code",
   "execution_count": 46,
   "metadata": {},
   "outputs": [],
   "source": [
    "# play with noverlap and NFFT parameters. what effect do they have?"
   ]
  },
  {
   "cell_type": "markdown",
   "metadata": {},
   "source": [
    "## Filter the EEG data to remove noise\n",
    "\n",
    "The big spike at 60 Hz is definitely noise. Let's filter the EEG signal to remove it.\n",
    "\n",
    "The simplest thing to do would be to low-pass filter just below 60 Hz (since there probably isn't much interesting signal in the 60-64 Hz range anyway, and 64 Hz is the highest frequency we can see here -- Nyquist!!).\n",
    "\n",
    "First design a low-pass filter using `signal.firwin`. You should set the `cutoff` frequency to something like 55 Hz, and make sure to set the sampling rate `fs` so that `firwin` knows how to handle the cutoff frequency you give it. Look at the docs for `signal.firwin` and check out the demos and notes for lecture 29 to see a demo of how to use this function. You'll also need to choose the number of taps in the filter--remember that fewer taps means a \"softer\" filter, while more taps means a \"sharper\" filter. You can play with this parameter later.\n",
    "\n",
    "Second plot your filter using `plt.plot` to see what it looks like.\n",
    "\n",
    "Third use `signal.freqz` to get the frequency response of your filter, and plot it. (Remember that the frequencies `freqz` gives you are \"helpfully\" in units of radians per sample. You should figure out how to convert these units to Hz. Again, see lecture 29 demos and notes for example.) \n",
    "\n",
    "Fourth apply the filter to the EEG data from one channel using `np.convolve`. Plot the first 10 seconds of the result as well as the first 10 seconds of the original signal on the same axis. How do they compare?\n",
    "\n",
    "Fifth plot the power spectrum of the resulting signal."
   ]
  },
  {
   "cell_type": "code",
   "execution_count": 47,
   "metadata": {},
   "outputs": [],
   "source": [
    "# design a low-pass filter\n",
    "\n",
    "# plot the filter\n",
    "\n",
    "# plot the frequency response of the filter\n",
    "\n",
    "# filter the signal from one EEG channel\n",
    "\n",
    "# plot filtered & original data in same axis to compare\n",
    "\n",
    "# plot power spectrum of the filtered EEG data"
   ]
  },
  {
   "cell_type": "code",
   "execution_count": null,
   "metadata": {},
   "outputs": [],
   "source": []
  }
 ],
 "metadata": {
  "kernelspec": {
   "display_name": "Python 3",
   "language": "python",
   "name": "python3"
  },
  "language_info": {
   "codemirror_mode": {
    "name": "ipython",
    "version": 3
   },
   "file_extension": ".py",
   "mimetype": "text/x-python",
   "name": "python",
   "nbconvert_exporter": "python",
   "pygments_lexer": "ipython3",
   "version": "3.6.5"
  }
 },
 "nbformat": 4,
 "nbformat_minor": 2
}
